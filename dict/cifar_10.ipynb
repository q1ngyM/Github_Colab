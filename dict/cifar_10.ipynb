{
  "metadata": {
    "kernelspec": {
      "language": "python",
      "display_name": "Python 3",
      "name": "python3"
    },
    "language_info": {
      "name": "python",
      "version": "3.10.13",
      "mimetype": "text/x-python",
      "codemirror_mode": {
        "name": "ipython",
        "version": 3
      },
      "pygments_lexer": "ipython3",
      "nbconvert_exporter": "python",
      "file_extension": ".py"
    },
    "kaggle": {
      "accelerator": "nvidiaTeslaT4",
      "dataSources": [
        {
          "sourceId": 7806033,
          "sourceType": "datasetVersion",
          "datasetId": 4456930
        },
        {
          "sourceId": 714968,
          "sourceType": "datasetVersion",
          "datasetId": 366471
        },
        {
          "sourceId": 15444,
          "sourceType": "datasetVersion",
          "datasetId": 11102
        },
        {
          "sourceId": 115737437,
          "sourceType": "kernelVersion"
        }
      ],
      "dockerImageVersionId": 30716,
      "isInternetEnabled": false,
      "language": "python",
      "sourceType": "notebook",
      "isGpuEnabled": true
    },
    "colab": {
      "name": "cifar-10",
      "provenance": [],
      "include_colab_link": true
    }
  },
  "nbformat_minor": 0,
  "nbformat": 4,
  "cells": [
    {
      "cell_type": "markdown",
      "metadata": {
        "id": "view-in-github",
        "colab_type": "text"
      },
      "source": [
        "<a href=\"https://colab.research.google.com/github/q1ngyM/Github_Colab/blob/main/dict/cifar_10.ipynb\" target=\"_parent\"><img src=\"https://colab.research.google.com/assets/colab-badge.svg\" alt=\"Open In Colab\"/></a>"
      ]
    },
    {
      "cell_type": "code",
      "source": [
        "import sys\n",
        "sys.path.append(\"../input/d2l-module\")\n",
        "import d2l"
      ],
      "metadata": {
        "execution": {
          "iopub.status.busy": "2024-06-02T03:16:18.359182Z",
          "iopub.execute_input": "2024-06-02T03:16:18.35987Z",
          "iopub.status.idle": "2024-06-02T03:16:18.367824Z",
          "shell.execute_reply.started": "2024-06-02T03:16:18.359837Z",
          "shell.execute_reply": "2024-06-02T03:16:18.366875Z"
        },
        "trusted": true,
        "id": "ZO2-EObOBwy1"
      },
      "execution_count": null,
      "outputs": []
    },
    {
      "cell_type": "code",
      "source": [
        "import collections\n",
        "import math\n",
        "import os\n",
        "import csv\n",
        "import shutil\n",
        "import pandas as pd\n",
        "import torch\n",
        "import torch.nn as nn\n",
        "from torch.nn import functional as F\n",
        "import torchvision\n",
        "from torchvision import datasets, transforms\n",
        "from torch.utils.data import Dataset, DataLoader\n",
        "from d2l import torch as d2l"
      ],
      "metadata": {
        "execution": {
          "iopub.status.busy": "2024-06-02T03:16:18.369166Z",
          "iopub.execute_input": "2024-06-02T03:16:18.369616Z",
          "iopub.status.idle": "2024-06-02T03:16:23.398236Z",
          "shell.execute_reply.started": "2024-06-02T03:16:18.369584Z",
          "shell.execute_reply": "2024-06-02T03:16:23.397272Z"
        },
        "trusted": true,
        "id": "wRlLoSOrBwy2"
      },
      "execution_count": null,
      "outputs": []
    },
    {
      "cell_type": "code",
      "source": [
        "'''\n",
        "训练数据中：图片切割+随机水平翻转+对RGB三个通道进行标准化\n",
        "'''\n",
        "transform_train = torchvision.transforms.Compose([\n",
        "\n",
        "    torchvision.transforms.Resize(40),\n",
        "    torchvision.transforms.RandomResizedCrop(32, scale=(0.64, 1.0),\n",
        "                                             ratio=(1.0, 1.0)),\n",
        "    torchvision.transforms.RandomHorizontalFlip(),\n",
        "\n",
        "    torchvision.transforms.ToTensor(),\n",
        "\n",
        "    # 标准化图像的每个通道\n",
        "    torchvision.transforms.Normalize([0.4914, 0.4822, 0.4465],\n",
        "                                     [0.2023, 0.1994, 0.2010])])\n",
        "'''\n",
        "测试数据中：只对图片进行通道标准化，消除评估结果中的随机性\n",
        "'''\n",
        "transform_test = torchvision.transforms.Compose([\n",
        "    torchvision.transforms.ToTensor(),\n",
        "    torchvision.transforms.Normalize([0.4914, 0.4822, 0.4465],\n",
        "                                     [0.2023, 0.1994, 0.2010])])"
      ],
      "metadata": {
        "execution": {
          "iopub.status.busy": "2024-06-02T03:16:23.400251Z",
          "iopub.execute_input": "2024-06-02T03:16:23.400661Z",
          "iopub.status.idle": "2024-06-02T03:16:23.408219Z",
          "shell.execute_reply.started": "2024-06-02T03:16:23.400635Z",
          "shell.execute_reply": "2024-06-02T03:16:23.40706Z"
        },
        "trusted": true,
        "id": "pMoQh7QCBwy2"
      },
      "execution_count": null,
      "outputs": []
    },
    {
      "cell_type": "code",
      "source": [
        "batch_size = 128\n",
        "train_dataset = datasets.CIFAR10(root=\"../input/cifar10-python\", train=True, download=True,transform=transform_train)\n",
        "train_iter = DataLoader(train_dataset, batch_size=batch_size, shuffle=True)\n",
        "\n",
        "test_dataset = datasets.CIFAR10(root=\"../input/cifar10-python\", train=False, download=False,transform=transform_test)\n",
        "valid_iter = DataLoader(test_dataset, batch_size=batch_size, shuffle=True)\n"
      ],
      "metadata": {
        "execution": {
          "iopub.status.busy": "2024-06-02T03:16:23.409739Z",
          "iopub.execute_input": "2024-06-02T03:16:23.41003Z",
          "iopub.status.idle": "2024-06-02T03:16:26.332336Z",
          "shell.execute_reply.started": "2024-06-02T03:16:23.409983Z",
          "shell.execute_reply": "2024-06-02T03:16:26.331558Z"
        },
        "trusted": true,
        "id": "rGCl8AIRBwy2",
        "outputId": "1c4b5af4-44e0-4704-d78d-84f6b744a0fc"
      },
      "execution_count": null,
      "outputs": [
        {
          "name": "stdout",
          "text": "Files already downloaded and verified\n",
          "output_type": "stream"
        }
      ]
    },
    {
      "cell_type": "code",
      "source": [
        "'''\n",
        "根据上图所示结构对残差块进行定义\n",
        "'''\n",
        "class Residual(nn.Module):\n",
        "    def __init__(self, input_channels, num_channels, use_1x1conv=False, strides=1):\n",
        "        super().__init__()\n",
        "        self.conv1 = nn.Conv2d(input_channels, num_channels, kernel_size=3, padding=1, stride=strides)\n",
        "        self.conv2 = nn.Conv2d(num_channels, num_channels, kernel_size=3, padding=1)\n",
        "        if use_1x1conv:\n",
        "            self.conv3 = nn.Conv2d(input_channels, num_channels, kernel_size=1, stride=strides)\n",
        "        else:\n",
        "            self.conv3 = None\n",
        "        self.bn1 = nn.BatchNorm2d(num_channels)\n",
        "        self.bn2 = nn.BatchNorm2d(num_channels)\n",
        "\n",
        "    def forward(self, X):\n",
        "        Y = F.relu(self.bn1(self.conv1(X)))\n",
        "        Y = self.bn2(self.conv2(Y))\n",
        "        if self.conv3 is not None:\n",
        "            X = self.conv3(X)\n",
        "        Y += X # 将输入添加到输出\n",
        "        return Y\n",
        "\n",
        "def resnet_block(input_channels, num_channels, num_residuals,\n",
        "                 first_block=False):\n",
        "    blk = []\n",
        "    for i in range(num_residuals):\n",
        "        if i == 0 and not first_block:\n",
        "            blk.append(Residual(input_channels, num_channels,\n",
        "                                use_1x1conv=True, strides=2))\n",
        "        else:\n",
        "            blk.append(Residual(num_channels, num_channels))\n",
        "    return blk\n",
        "\n",
        "class ResNet(nn.Module):\n",
        "    def __init__(self):\n",
        "        super().__init__()\n",
        "        self.b1 = nn.Sequential(\n",
        "                   nn.Conv2d(3, 64, kernel_size=7, stride=2, padding=3),\n",
        "                   nn.BatchNorm2d(64),\n",
        "                   nn.ReLU(),\n",
        "                   nn.MaxPool2d(kernel_size=3, stride=2, padding=1)\n",
        "                   )\n",
        "        self.b2 = nn.Sequential(*resnet_block(64,64,2,first_block=True))\n",
        "        self.b3 = nn.Sequential(*resnet_block(64,128,2))\n",
        "        self.b4 = nn.Sequential(*resnet_block(128,256,2))\n",
        "        self.b5 = nn.Sequential(*resnet_block(256,512,2))\n",
        "        self.fc = nn.Sequential(\n",
        "                    nn.AdaptiveAvgPool2d(1),\n",
        "                    nn.Flatten(),\n",
        "                    nn.Linear(512, 10)\n",
        "                    )\n",
        "    def forward(self,x):\n",
        "        x = self.b1(x)\n",
        "        x = self.b2(x)\n",
        "        x = self.b3(x)\n",
        "        x = self.b4(x)\n",
        "        x = self.b5(x)\n",
        "        x = self.fc(x)\n",
        "        return x\n",
        "\n"
      ],
      "metadata": {
        "execution": {
          "iopub.status.busy": "2024-06-02T03:16:26.333366Z",
          "iopub.execute_input": "2024-06-02T03:16:26.333643Z",
          "iopub.status.idle": "2024-06-02T03:16:26.349578Z",
          "shell.execute_reply.started": "2024-06-02T03:16:26.333619Z",
          "shell.execute_reply": "2024-06-02T03:16:26.348555Z"
        },
        "trusted": true,
        "id": "h9iycnYIBwy2"
      },
      "execution_count": null,
      "outputs": []
    },
    {
      "cell_type": "code",
      "source": [
        "def train_batch(net, X, y, loss, trainer, devices):\n",
        "    if isinstance(X, list):\n",
        "        X = [x.to(devices[0]) for x in X]\n",
        "    else:\n",
        "        X = X.to(devices[0])\n",
        "    # print(f\"Type of y: {type(y)}\")\n",
        "    y = y.to(devices[0])\n",
        "\n",
        "    net.train()\n",
        "    trainer.zero_grad()  # Clear gradients\n",
        "    pred = net(X)\n",
        "    l = loss(pred, y)\n",
        "    l.sum().backward()\n",
        "    trainer.step()\n",
        "    train_loss_sum = l.sum()\n",
        "    train_acc_sum = (pred.argmax(axis=1) == y).float().mean().item()\n",
        "\n",
        "    return train_loss_sum, train_acc_sum\n",
        "\n",
        "\n",
        "# lr_period lr_decay 学习率下降方法（每隔多少个epoch减少lr多少 ）\n",
        "def train(net, train_iter, valid_iter, num_epochs, lr, wd, devices, lr_period,lr_decay):\n",
        "    # 使用随机梯度下降的优化方法\n",
        "    trainer = torch.optim.SGD(net.parameters(), lr=lr, momentum=0.9, weight_decay=wd)\n",
        "\n",
        "    # 定义学习率调度器，每隔lr-period*epoch将学习率乘以lr_decay\n",
        "    scheduler = torch.optim.lr_scheduler.StepLR(trainer, lr_period, lr_decay)\n",
        "\n",
        "    # 获得批次训练的数量，初始化计时器\n",
        "    num_batches, timer = len(train_iter), d2l.Timer()\n",
        "\n",
        "    # 画图\n",
        "    legend = ['train loss', 'train acc']\n",
        "    if valid_iter is not None:\n",
        "        legend.append('valid acc')\n",
        "    animator = d2l.Animator(xlabel='epoch', xlim=[1, num_epochs], legend=legend)\n",
        "\n",
        "    # 并行化模型，可以在多个设备上运行，虽然不太懂如果我只有一个gpu可用的话写这一句有什么用，但是很多资料上都有这一句，就先抄写下来\n",
        "    net = nn.DataParallel(net, device_ids=devices).to(devices[0])\n",
        "\n",
        "    # 损失函数：交叉熵损失\n",
        "    loss = nn.CrossEntropyLoss()\n",
        "\n",
        "    # 训练\n",
        "    for epoch in range(num_epochs):\n",
        "        net.train()\n",
        "        # 初始化累加器，记录损失和准确率，比list更方便:[loss,acc,1]\n",
        "        metric = d2l.Accumulator(3)\n",
        "\n",
        "        for i, (features, labels) in enumerate(train_iter):\n",
        "            timer.start()\n",
        "            l, acc = train_batch(net, features, labels, loss, trainer, devices)\n",
        "\n",
        "            metric.add(l, acc, labels.shape[0])\n",
        "            # 打印损失\n",
        "            timer.stop()\n",
        "\n",
        "\n",
        "            # 每1/5数据更新一次图像\n",
        "            if (i + 1) % (num_batches // 5) == 0 or i == num_batches - 1:\n",
        "                animator.add(epoch + (i + 1) / num_batches,\n",
        "                             (metric[0] / metric[2], metric[1] / metric[2], None))\n",
        "\n",
        "\n",
        "        # 每个epoch结束后用验证集验证准确率\n",
        "        if valid_iter is not None:\n",
        "            valid_acc = d2l.evaluate_accuracy_gpu(net, valid_iter)\n",
        "            animator.add(epoch + 1, (None, None, valid_acc))\n",
        "        scheduler.step()\n",
        "        print(metric[1]/metric[2])\n",
        "\n",
        "        # 打印\n",
        "        print(f'epoch {epoch + 1}, train loss {metric[0] / metric[2]:.3f}, '\n",
        "              f'train acc {metric[1] / metric[2]:.3f}, '\n",
        "              f'valid acc {valid_acc:.3f}' if valid_iter is not None else \"\")\n",
        "\n",
        "    measures = (f'train loss {metric[0] / metric[2]:.3f}, '\n",
        "                f'train acc {metric[1] / metric[2]:.3f}')\n",
        "    if valid_iter is not None:\n",
        "        measures += f', valid acc {valid_acc:.3f}'\n",
        "    print(measures + f'\\n{metric[2] * num_epochs / timer.sum():.1f} '\n",
        "          f'examples/sec on {str(devices)}')\n",
        "\n",
        "\n",
        "\n",
        "\n",
        "\n"
      ],
      "metadata": {
        "execution": {
          "iopub.status.busy": "2024-06-02T03:16:26.35091Z",
          "iopub.execute_input": "2024-06-02T03:16:26.351331Z",
          "iopub.status.idle": "2024-06-02T03:16:26.368732Z",
          "shell.execute_reply.started": "2024-06-02T03:16:26.351301Z",
          "shell.execute_reply": "2024-06-02T03:16:26.367958Z"
        },
        "trusted": true,
        "id": "KucplrBVBwy3"
      },
      "execution_count": null,
      "outputs": []
    },
    {
      "cell_type": "code",
      "source": [
        "def get_net():\n",
        "    num_classes = 10\n",
        "    net = d2l.resnet18(num_classes,3)\n",
        "    return net"
      ],
      "metadata": {
        "execution": {
          "iopub.status.busy": "2024-06-02T03:23:58.447845Z",
          "iopub.execute_input": "2024-06-02T03:23:58.448814Z",
          "iopub.status.idle": "2024-06-02T03:23:58.453217Z",
          "shell.execute_reply.started": "2024-06-02T03:23:58.448778Z",
          "shell.execute_reply": "2024-06-02T03:23:58.45221Z"
        },
        "trusted": true,
        "id": "yRViLj_KBwy3"
      },
      "execution_count": null,
      "outputs": []
    },
    {
      "cell_type": "code",
      "source": [
        "d2l_net = True\n",
        "if d2l_net:\n",
        "    net = get_net()\n",
        "else:\n",
        "    net = ResNet()\n",
        "\n",
        "# Define parameters: devices, epochs, learning rate, weight decay\n",
        "devices, num_epochs, lr, wd = d2l.try_all_gpus(), 20, 0.1, 5e-4\n",
        "lr_period, lr_decay = 10, 0.1\n",
        "\n",
        "# Apply Xavier uniform distribution for model parameter initialization\n",
        "def init_weights(m):\n",
        "    if isinstance(m, (nn.Linear, nn.Conv2d)):\n",
        "        nn.init.xavier_uniform_(m.weight)\n",
        "\n",
        "net.apply(init_weights)\n",
        "\n",
        "train(net, train_iter, valid_iter, num_epochs, lr, wd, devices, lr_period, lr_decay)"
      ],
      "metadata": {
        "execution": {
          "iopub.status.busy": "2024-06-02T03:25:01.798502Z",
          "iopub.execute_input": "2024-06-02T03:25:01.79911Z",
          "iopub.status.idle": "2024-06-02T03:46:13.627721Z",
          "shell.execute_reply.started": "2024-06-02T03:25:01.799078Z",
          "shell.execute_reply": "2024-06-02T03:46:13.6265Z"
        },
        "trusted": true,
        "id": "hf-bNB1uBwy3",
        "outputId": "e315c923-8326-41b9-ee02-8f32c3a305db"
      },
      "execution_count": null,
      "outputs": [
        {
          "name": "stdout",
          "text": "epoch 20, train loss 0.002, train acc 0.007, valid acc 0.847\ntrain loss 0.002, train acc 0.007, valid acc 0.847\n1687.1 examples/sec on [device(type='cuda', index=0), device(type='cuda', index=1)]\n",
          "output_type": "stream"
        },
        {
          "output_type": "display_data",
          "data": {
            "text/plain": "<Figure size 350x250 with 1 Axes>",
            "image/svg+xml": "<?xml version=\"1.0\" encoding=\"utf-8\" standalone=\"no\"?>\n<!DOCTYPE svg PUBLIC \"-//W3C//DTD SVG 1.1//EN\"\n  \"http://www.w3.org/Graphics/SVG/1.1/DTD/svg11.dtd\">\n<svg xmlns:xlink=\"http://www.w3.org/1999/xlink\" width=\"238.965625pt\" height=\"183.35625pt\" viewBox=\"0 0 238.965625 183.35625\" xmlns=\"http://www.w3.org/2000/svg\" version=\"1.1\">\n <metadata>\n  <rdf:RDF xmlns:dc=\"http://purl.org/dc/elements/1.1/\" xmlns:cc=\"http://creativecommons.org/ns#\" xmlns:rdf=\"http://www.w3.org/1999/02/22-rdf-syntax-ns#\">\n   <cc:Work>\n    <dc:type rdf:resource=\"http://purl.org/dc/dcmitype/StillImage\"/>\n    <dc:date>2024-06-02T03:46:13.540862</dc:date>\n    <dc:format>image/svg+xml</dc:format>\n    <dc:creator>\n     <cc:Agent>\n      <dc:title>Matplotlib v3.7.5, https://matplotlib.org/</dc:title>\n     </cc:Agent>\n    </dc:creator>\n   </cc:Work>\n  </rdf:RDF>\n </metadata>\n <defs>\n  <style type=\"text/css\">*{stroke-linejoin: round; stroke-linecap: butt}</style>\n </defs>\n <g id=\"figure_1\">\n  <g id=\"patch_1\">\n   <path d=\"M 0 183.35625 \nL 238.965625 183.35625 \nL 238.965625 0 \nL 0 0 \nz\n\" style=\"fill: #ffffff\"/>\n  </g>\n  <g id=\"axes_1\">\n   <g id=\"patch_2\">\n    <path d=\"M 30.103125 145.8 \nL 225.403125 145.8 \nL 225.403125 7.2 \nL 30.103125 7.2 \nz\n\" style=\"fill: #ffffff\"/>\n   </g>\n   <g id=\"matplotlib.axis_1\">\n    <g id=\"xtick_1\">\n     <g id=\"line2d_1\">\n      <path d=\"M 71.218914 145.8 \nL 71.218914 7.2 \n\" clip-path=\"url(#p89152601b6)\" style=\"fill: none; stroke: #b0b0b0; stroke-width: 0.8; stroke-linecap: square\"/>\n     </g>\n     <g id=\"line2d_2\">\n      <defs>\n       <path id=\"m8d5352988a\" d=\"M 0 0 \nL 0 3.5 \n\" style=\"stroke: #000000; stroke-width: 0.8\"/>\n      </defs>\n      <g>\n       <use xlink:href=\"#m8d5352988a\" x=\"71.218914\" y=\"145.8\" style=\"stroke: #000000; stroke-width: 0.8\"/>\n      </g>\n     </g>\n     <g id=\"text_1\">\n      <!-- 5 -->\n      <g transform=\"translate(68.037664 160.398438) scale(0.1 -0.1)\">\n       <defs>\n        <path id=\"DejaVuSans-35\" d=\"M 691 4666 \nL 3169 4666 \nL 3169 4134 \nL 1269 4134 \nL 1269 2991 \nQ 1406 3038 1543 3061 \nQ 1681 3084 1819 3084 \nQ 2600 3084 3056 2656 \nQ 3513 2228 3513 1497 \nQ 3513 744 3044 326 \nQ 2575 -91 1722 -91 \nQ 1428 -91 1123 -41 \nQ 819 9 494 109 \nL 494 744 \nQ 775 591 1075 516 \nQ 1375 441 1709 441 \nQ 2250 441 2565 725 \nQ 2881 1009 2881 1497 \nQ 2881 1984 2565 2268 \nQ 2250 2553 1709 2553 \nQ 1456 2553 1204 2497 \nQ 953 2441 691 2322 \nL 691 4666 \nz\n\" transform=\"scale(0.015625)\"/>\n       </defs>\n       <use xlink:href=\"#DejaVuSans-35\"/>\n      </g>\n     </g>\n    </g>\n    <g id=\"xtick_2\">\n     <g id=\"line2d_3\">\n      <path d=\"M 122.613651 145.8 \nL 122.613651 7.2 \n\" clip-path=\"url(#p89152601b6)\" style=\"fill: none; stroke: #b0b0b0; stroke-width: 0.8; stroke-linecap: square\"/>\n     </g>\n     <g id=\"line2d_4\">\n      <g>\n       <use xlink:href=\"#m8d5352988a\" x=\"122.613651\" y=\"145.8\" style=\"stroke: #000000; stroke-width: 0.8\"/>\n      </g>\n     </g>\n     <g id=\"text_2\">\n      <!-- 10 -->\n      <g transform=\"translate(116.251151 160.398438) scale(0.1 -0.1)\">\n       <defs>\n        <path id=\"DejaVuSans-31\" d=\"M 794 531 \nL 1825 531 \nL 1825 4091 \nL 703 3866 \nL 703 4441 \nL 1819 4666 \nL 2450 4666 \nL 2450 531 \nL 3481 531 \nL 3481 0 \nL 794 0 \nL 794 531 \nz\n\" transform=\"scale(0.015625)\"/>\n        <path id=\"DejaVuSans-30\" d=\"M 2034 4250 \nQ 1547 4250 1301 3770 \nQ 1056 3291 1056 2328 \nQ 1056 1369 1301 889 \nQ 1547 409 2034 409 \nQ 2525 409 2770 889 \nQ 3016 1369 3016 2328 \nQ 3016 3291 2770 3770 \nQ 2525 4250 2034 4250 \nz\nM 2034 4750 \nQ 2819 4750 3233 4129 \nQ 3647 3509 3647 2328 \nQ 3647 1150 3233 529 \nQ 2819 -91 2034 -91 \nQ 1250 -91 836 529 \nQ 422 1150 422 2328 \nQ 422 3509 836 4129 \nQ 1250 4750 2034 4750 \nz\n\" transform=\"scale(0.015625)\"/>\n       </defs>\n       <use xlink:href=\"#DejaVuSans-31\"/>\n       <use xlink:href=\"#DejaVuSans-30\" x=\"63.623047\"/>\n      </g>\n     </g>\n    </g>\n    <g id=\"xtick_3\">\n     <g id=\"line2d_5\">\n      <path d=\"M 174.008388 145.8 \nL 174.008388 7.2 \n\" clip-path=\"url(#p89152601b6)\" style=\"fill: none; stroke: #b0b0b0; stroke-width: 0.8; stroke-linecap: square\"/>\n     </g>\n     <g id=\"line2d_6\">\n      <g>\n       <use xlink:href=\"#m8d5352988a\" x=\"174.008388\" y=\"145.8\" style=\"stroke: #000000; stroke-width: 0.8\"/>\n      </g>\n     </g>\n     <g id=\"text_3\">\n      <!-- 15 -->\n      <g transform=\"translate(167.645888 160.398438) scale(0.1 -0.1)\">\n       <use xlink:href=\"#DejaVuSans-31\"/>\n       <use xlink:href=\"#DejaVuSans-35\" x=\"63.623047\"/>\n      </g>\n     </g>\n    </g>\n    <g id=\"xtick_4\">\n     <g id=\"line2d_7\">\n      <path d=\"M 225.403125 145.8 \nL 225.403125 7.2 \n\" clip-path=\"url(#p89152601b6)\" style=\"fill: none; stroke: #b0b0b0; stroke-width: 0.8; stroke-linecap: square\"/>\n     </g>\n     <g id=\"line2d_8\">\n      <g>\n       <use xlink:href=\"#m8d5352988a\" x=\"225.403125\" y=\"145.8\" style=\"stroke: #000000; stroke-width: 0.8\"/>\n      </g>\n     </g>\n     <g id=\"text_4\">\n      <!-- 20 -->\n      <g transform=\"translate(219.040625 160.398438) scale(0.1 -0.1)\">\n       <defs>\n        <path id=\"DejaVuSans-32\" d=\"M 1228 531 \nL 3431 531 \nL 3431 0 \nL 469 0 \nL 469 531 \nQ 828 903 1448 1529 \nQ 2069 2156 2228 2338 \nQ 2531 2678 2651 2914 \nQ 2772 3150 2772 3378 \nQ 2772 3750 2511 3984 \nQ 2250 4219 1831 4219 \nQ 1534 4219 1204 4116 \nQ 875 4013 500 3803 \nL 500 4441 \nQ 881 4594 1212 4672 \nQ 1544 4750 1819 4750 \nQ 2544 4750 2975 4387 \nQ 3406 4025 3406 3419 \nQ 3406 3131 3298 2873 \nQ 3191 2616 2906 2266 \nQ 2828 2175 2409 1742 \nQ 1991 1309 1228 531 \nz\n\" transform=\"scale(0.015625)\"/>\n       </defs>\n       <use xlink:href=\"#DejaVuSans-32\"/>\n       <use xlink:href=\"#DejaVuSans-30\" x=\"63.623047\"/>\n      </g>\n     </g>\n    </g>\n    <g id=\"text_5\">\n     <!-- epoch -->\n     <g transform=\"translate(112.525 174.076563) scale(0.1 -0.1)\">\n      <defs>\n       <path id=\"DejaVuSans-65\" d=\"M 3597 1894 \nL 3597 1613 \nL 953 1613 \nQ 991 1019 1311 708 \nQ 1631 397 2203 397 \nQ 2534 397 2845 478 \nQ 3156 559 3463 722 \nL 3463 178 \nQ 3153 47 2828 -22 \nQ 2503 -91 2169 -91 \nQ 1331 -91 842 396 \nQ 353 884 353 1716 \nQ 353 2575 817 3079 \nQ 1281 3584 2069 3584 \nQ 2775 3584 3186 3129 \nQ 3597 2675 3597 1894 \nz\nM 3022 2063 \nQ 3016 2534 2758 2815 \nQ 2500 3097 2075 3097 \nQ 1594 3097 1305 2825 \nQ 1016 2553 972 2059 \nL 3022 2063 \nz\n\" transform=\"scale(0.015625)\"/>\n       <path id=\"DejaVuSans-70\" d=\"M 1159 525 \nL 1159 -1331 \nL 581 -1331 \nL 581 3500 \nL 1159 3500 \nL 1159 2969 \nQ 1341 3281 1617 3432 \nQ 1894 3584 2278 3584 \nQ 2916 3584 3314 3078 \nQ 3713 2572 3713 1747 \nQ 3713 922 3314 415 \nQ 2916 -91 2278 -91 \nQ 1894 -91 1617 61 \nQ 1341 213 1159 525 \nz\nM 3116 1747 \nQ 3116 2381 2855 2742 \nQ 2594 3103 2138 3103 \nQ 1681 3103 1420 2742 \nQ 1159 2381 1159 1747 \nQ 1159 1113 1420 752 \nQ 1681 391 2138 391 \nQ 2594 391 2855 752 \nQ 3116 1113 3116 1747 \nz\n\" transform=\"scale(0.015625)\"/>\n       <path id=\"DejaVuSans-6f\" d=\"M 1959 3097 \nQ 1497 3097 1228 2736 \nQ 959 2375 959 1747 \nQ 959 1119 1226 758 \nQ 1494 397 1959 397 \nQ 2419 397 2687 759 \nQ 2956 1122 2956 1747 \nQ 2956 2369 2687 2733 \nQ 2419 3097 1959 3097 \nz\nM 1959 3584 \nQ 2709 3584 3137 3096 \nQ 3566 2609 3566 1747 \nQ 3566 888 3137 398 \nQ 2709 -91 1959 -91 \nQ 1206 -91 779 398 \nQ 353 888 353 1747 \nQ 353 2609 779 3096 \nQ 1206 3584 1959 3584 \nz\n\" transform=\"scale(0.015625)\"/>\n       <path id=\"DejaVuSans-63\" d=\"M 3122 3366 \nL 3122 2828 \nQ 2878 2963 2633 3030 \nQ 2388 3097 2138 3097 \nQ 1578 3097 1268 2742 \nQ 959 2388 959 1747 \nQ 959 1106 1268 751 \nQ 1578 397 2138 397 \nQ 2388 397 2633 464 \nQ 2878 531 3122 666 \nL 3122 134 \nQ 2881 22 2623 -34 \nQ 2366 -91 2075 -91 \nQ 1284 -91 818 406 \nQ 353 903 353 1747 \nQ 353 2603 823 3093 \nQ 1294 3584 2113 3584 \nQ 2378 3584 2631 3529 \nQ 2884 3475 3122 3366 \nz\n\" transform=\"scale(0.015625)\"/>\n       <path id=\"DejaVuSans-68\" d=\"M 3513 2113 \nL 3513 0 \nL 2938 0 \nL 2938 2094 \nQ 2938 2591 2744 2837 \nQ 2550 3084 2163 3084 \nQ 1697 3084 1428 2787 \nQ 1159 2491 1159 1978 \nL 1159 0 \nL 581 0 \nL 581 4863 \nL 1159 4863 \nL 1159 2956 \nQ 1366 3272 1645 3428 \nQ 1925 3584 2291 3584 \nQ 2894 3584 3203 3211 \nQ 3513 2838 3513 2113 \nz\n\" transform=\"scale(0.015625)\"/>\n      </defs>\n      <use xlink:href=\"#DejaVuSans-65\"/>\n      <use xlink:href=\"#DejaVuSans-70\" x=\"61.523438\"/>\n      <use xlink:href=\"#DejaVuSans-6f\" x=\"125\"/>\n      <use xlink:href=\"#DejaVuSans-63\" x=\"186.181641\"/>\n      <use xlink:href=\"#DejaVuSans-68\" x=\"241.162109\"/>\n     </g>\n    </g>\n   </g>\n   <g id=\"matplotlib.axis_2\">\n    <g id=\"ytick_1\">\n     <g id=\"line2d_9\">\n      <path d=\"M 30.103125 139.639692 \nL 225.403125 139.639692 \n\" clip-path=\"url(#p89152601b6)\" style=\"fill: none; stroke: #b0b0b0; stroke-width: 0.8; stroke-linecap: square\"/>\n     </g>\n     <g id=\"line2d_10\">\n      <defs>\n       <path id=\"m8a7f197095\" d=\"M 0 0 \nL -3.5 0 \n\" style=\"stroke: #000000; stroke-width: 0.8\"/>\n      </defs>\n      <g>\n       <use xlink:href=\"#m8a7f197095\" x=\"30.103125\" y=\"139.639692\" style=\"stroke: #000000; stroke-width: 0.8\"/>\n      </g>\n     </g>\n     <g id=\"text_6\">\n      <!-- 0.0 -->\n      <g transform=\"translate(7.2 143.43891) scale(0.1 -0.1)\">\n       <defs>\n        <path id=\"DejaVuSans-2e\" d=\"M 684 794 \nL 1344 794 \nL 1344 0 \nL 684 0 \nL 684 794 \nz\n\" transform=\"scale(0.015625)\"/>\n       </defs>\n       <use xlink:href=\"#DejaVuSans-30\"/>\n       <use xlink:href=\"#DejaVuSans-2e\" x=\"63.623047\"/>\n       <use xlink:href=\"#DejaVuSans-30\" x=\"95.410156\"/>\n      </g>\n     </g>\n    </g>\n    <g id=\"ytick_2\">\n     <g id=\"line2d_11\">\n      <path d=\"M 30.103125 109.861672 \nL 225.403125 109.861672 \n\" clip-path=\"url(#p89152601b6)\" style=\"fill: none; stroke: #b0b0b0; stroke-width: 0.8; stroke-linecap: square\"/>\n     </g>\n     <g id=\"line2d_12\">\n      <g>\n       <use xlink:href=\"#m8a7f197095\" x=\"30.103125\" y=\"109.861672\" style=\"stroke: #000000; stroke-width: 0.8\"/>\n      </g>\n     </g>\n     <g id=\"text_7\">\n      <!-- 0.2 -->\n      <g transform=\"translate(7.2 113.660891) scale(0.1 -0.1)\">\n       <use xlink:href=\"#DejaVuSans-30\"/>\n       <use xlink:href=\"#DejaVuSans-2e\" x=\"63.623047\"/>\n       <use xlink:href=\"#DejaVuSans-32\" x=\"95.410156\"/>\n      </g>\n     </g>\n    </g>\n    <g id=\"ytick_3\">\n     <g id=\"line2d_13\">\n      <path d=\"M 30.103125 80.083652 \nL 225.403125 80.083652 \n\" clip-path=\"url(#p89152601b6)\" style=\"fill: none; stroke: #b0b0b0; stroke-width: 0.8; stroke-linecap: square\"/>\n     </g>\n     <g id=\"line2d_14\">\n      <g>\n       <use xlink:href=\"#m8a7f197095\" x=\"30.103125\" y=\"80.083652\" style=\"stroke: #000000; stroke-width: 0.8\"/>\n      </g>\n     </g>\n     <g id=\"text_8\">\n      <!-- 0.4 -->\n      <g transform=\"translate(7.2 83.882871) scale(0.1 -0.1)\">\n       <defs>\n        <path id=\"DejaVuSans-34\" d=\"M 2419 4116 \nL 825 1625 \nL 2419 1625 \nL 2419 4116 \nz\nM 2253 4666 \nL 3047 4666 \nL 3047 1625 \nL 3713 1625 \nL 3713 1100 \nL 3047 1100 \nL 3047 0 \nL 2419 0 \nL 2419 1100 \nL 313 1100 \nL 313 1709 \nL 2253 4666 \nz\n\" transform=\"scale(0.015625)\"/>\n       </defs>\n       <use xlink:href=\"#DejaVuSans-30\"/>\n       <use xlink:href=\"#DejaVuSans-2e\" x=\"63.623047\"/>\n       <use xlink:href=\"#DejaVuSans-34\" x=\"95.410156\"/>\n      </g>\n     </g>\n    </g>\n    <g id=\"ytick_4\">\n     <g id=\"line2d_15\">\n      <path d=\"M 30.103125 50.305632 \nL 225.403125 50.305632 \n\" clip-path=\"url(#p89152601b6)\" style=\"fill: none; stroke: #b0b0b0; stroke-width: 0.8; stroke-linecap: square\"/>\n     </g>\n     <g id=\"line2d_16\">\n      <g>\n       <use xlink:href=\"#m8a7f197095\" x=\"30.103125\" y=\"50.305632\" style=\"stroke: #000000; stroke-width: 0.8\"/>\n      </g>\n     </g>\n     <g id=\"text_9\">\n      <!-- 0.6 -->\n      <g transform=\"translate(7.2 54.104851) scale(0.1 -0.1)\">\n       <defs>\n        <path id=\"DejaVuSans-36\" d=\"M 2113 2584 \nQ 1688 2584 1439 2293 \nQ 1191 2003 1191 1497 \nQ 1191 994 1439 701 \nQ 1688 409 2113 409 \nQ 2538 409 2786 701 \nQ 3034 994 3034 1497 \nQ 3034 2003 2786 2293 \nQ 2538 2584 2113 2584 \nz\nM 3366 4563 \nL 3366 3988 \nQ 3128 4100 2886 4159 \nQ 2644 4219 2406 4219 \nQ 1781 4219 1451 3797 \nQ 1122 3375 1075 2522 \nQ 1259 2794 1537 2939 \nQ 1816 3084 2150 3084 \nQ 2853 3084 3261 2657 \nQ 3669 2231 3669 1497 \nQ 3669 778 3244 343 \nQ 2819 -91 2113 -91 \nQ 1303 -91 875 529 \nQ 447 1150 447 2328 \nQ 447 3434 972 4092 \nQ 1497 4750 2381 4750 \nQ 2619 4750 2861 4703 \nQ 3103 4656 3366 4563 \nz\n\" transform=\"scale(0.015625)\"/>\n       </defs>\n       <use xlink:href=\"#DejaVuSans-30\"/>\n       <use xlink:href=\"#DejaVuSans-2e\" x=\"63.623047\"/>\n       <use xlink:href=\"#DejaVuSans-36\" x=\"95.410156\"/>\n      </g>\n     </g>\n    </g>\n    <g id=\"ytick_5\">\n     <g id=\"line2d_17\">\n      <path d=\"M 30.103125 20.527613 \nL 225.403125 20.527613 \n\" clip-path=\"url(#p89152601b6)\" style=\"fill: none; stroke: #b0b0b0; stroke-width: 0.8; stroke-linecap: square\"/>\n     </g>\n     <g id=\"line2d_18\">\n      <g>\n       <use xlink:href=\"#m8a7f197095\" x=\"30.103125\" y=\"20.527613\" style=\"stroke: #000000; stroke-width: 0.8\"/>\n      </g>\n     </g>\n     <g id=\"text_10\">\n      <!-- 0.8 -->\n      <g transform=\"translate(7.2 24.326831) scale(0.1 -0.1)\">\n       <defs>\n        <path id=\"DejaVuSans-38\" d=\"M 2034 2216 \nQ 1584 2216 1326 1975 \nQ 1069 1734 1069 1313 \nQ 1069 891 1326 650 \nQ 1584 409 2034 409 \nQ 2484 409 2743 651 \nQ 3003 894 3003 1313 \nQ 3003 1734 2745 1975 \nQ 2488 2216 2034 2216 \nz\nM 1403 2484 \nQ 997 2584 770 2862 \nQ 544 3141 544 3541 \nQ 544 4100 942 4425 \nQ 1341 4750 2034 4750 \nQ 2731 4750 3128 4425 \nQ 3525 4100 3525 3541 \nQ 3525 3141 3298 2862 \nQ 3072 2584 2669 2484 \nQ 3125 2378 3379 2068 \nQ 3634 1759 3634 1313 \nQ 3634 634 3220 271 \nQ 2806 -91 2034 -91 \nQ 1263 -91 848 271 \nQ 434 634 434 1313 \nQ 434 1759 690 2068 \nQ 947 2378 1403 2484 \nz\nM 1172 3481 \nQ 1172 3119 1398 2916 \nQ 1625 2713 2034 2713 \nQ 2441 2713 2670 2916 \nQ 2900 3119 2900 3481 \nQ 2900 3844 2670 4047 \nQ 2441 4250 2034 4250 \nQ 1625 4250 1398 4047 \nQ 1172 3844 1172 3481 \nz\n\" transform=\"scale(0.015625)\"/>\n       </defs>\n       <use xlink:href=\"#DejaVuSans-30\"/>\n       <use xlink:href=\"#DejaVuSans-2e\" x=\"63.623047\"/>\n       <use xlink:href=\"#DejaVuSans-38\" x=\"95.410156\"/>\n      </g>\n     </g>\n    </g>\n   </g>\n   <g id=\"line2d_19\">\n    <path d=\"M 21.874709 135.851837 \nL 23.925241 136.490485 \nL 25.975773 136.757356 \nL 28.026304 136.937601 \nL 30.076836 137.067164 \nL 30.103125 137.066234 \nL 32.153657 137.684599 \nL 34.204188 137.707468 \nL 36.25472 137.73021 \nL 38.305252 137.758593 \nL 40.355784 137.78836 \nL 40.382072 137.786506 \nL 42.432604 137.92337 \nL 44.483136 137.96421 \nL 46.533667 137.9851 \nL 48.584199 138.013474 \nL 50.634731 138.031344 \nL 50.66102 138.029988 \nL 52.711551 138.178365 \nL 54.762083 138.182993 \nL 56.812615 138.201403 \nL 58.863147 138.214499 \nL 60.913678 138.231936 \nL 60.939967 138.230609 \nL 62.990499 138.35288 \nL 65.041031 138.376958 \nL 67.091562 138.395593 \nL 69.142094 138.417997 \nL 71.192626 138.434207 \nL 71.218914 138.433527 \nL 73.269446 138.561725 \nL 75.319978 138.581128 \nL 77.37051 138.591353 \nL 79.421041 138.603334 \nL 81.471573 138.614733 \nL 81.497862 138.613364 \nL 83.548394 138.751446 \nL 85.598925 138.733893 \nL 87.649457 138.737932 \nL 89.699989 138.744718 \nL 91.75052 138.751101 \nL 91.776809 138.750237 \nL 93.827341 138.825304 \nL 95.877873 138.814344 \nL 97.928404 138.813244 \nL 99.978936 138.819146 \nL 102.029468 138.824086 \nL 102.055757 138.823679 \nL 104.106288 138.915711 \nL 106.15682 138.898697 \nL 108.207352 138.892589 \nL 110.257883 138.891523 \nL 112.308415 138.890988 \nL 112.334704 138.889933 \nL 114.385236 138.922014 \nL 116.435767 138.923548 \nL 118.486299 138.925213 \nL 120.536831 138.922523 \nL 122.587362 138.919358 \nL 122.613651 138.918368 \nL 124.664183 139.091187 \nL 126.714715 139.106309 \nL 128.765246 139.122083 \nL 130.815778 139.131973 \nL 132.86631 139.140438 \nL 132.892599 139.14004 \nL 134.94313 139.205082 \nL 136.993662 139.208621 \nL 139.044194 139.210465 \nL 141.094725 139.21233 \nL 143.145257 139.216683 \nL 143.171546 139.21636 \nL 145.222078 139.250867 \nL 147.272609 139.252591 \nL 149.323141 139.249485 \nL 151.373673 139.250831 \nL 153.424205 139.247822 \nL 153.450493 139.247319 \nL 155.501025 139.283429 \nL 157.551557 139.280964 \nL 159.602089 139.286285 \nL 161.65262 139.281042 \nL 163.703152 139.28258 \nL 163.729441 139.281755 \nL 165.779972 139.300901 \nL 167.830504 139.29689 \nL 169.881036 139.299855 \nL 171.931568 139.299448 \nL 173.982099 139.300542 \nL 174.008388 139.300439 \nL 176.05892 139.349482 \nL 178.109452 139.341715 \nL 180.159983 139.333328 \nL 182.210515 139.329223 \nL 184.261047 139.325743 \nL 184.287336 139.325508 \nL 186.337867 139.355404 \nL 188.388399 139.35818 \nL 190.438931 139.351852 \nL 192.489462 139.349463 \nL 194.539994 139.349066 \nL 194.566283 139.348911 \nL 196.616815 139.37093 \nL 198.667346 139.367132 \nL 200.717878 139.36841 \nL 202.76841 139.370031 \nL 204.818941 139.365381 \nL 204.84523 139.3645 \nL 206.895762 139.395438 \nL 208.946294 139.391247 \nL 210.996825 139.387638 \nL 213.047357 139.383249 \nL 215.097889 139.381276 \nL 215.124178 139.381276 \nL 217.174709 139.393503 \nL 219.225241 139.396941 \nL 221.275773 139.401307 \nL 223.326304 139.398198 \nL 225.376836 139.394687 \nL 225.403125 139.393976 \n\" clip-path=\"url(#p89152601b6)\" style=\"fill: none; stroke: #1f77b4; stroke-width: 1.5; stroke-linecap: square\"/>\n   </g>\n   <g id=\"line2d_20\">\n    <path d=\"M 21.874709 139.5 \nL 23.925241 139.457475 \nL 25.975773 139.424193 \nL 28.026304 139.388911 \nL 30.076836 139.357582 \nL 30.103125 139.357028 \nL 32.153657 139.193937 \nL 34.204188 139.188461 \nL 36.25472 139.179451 \nL 38.305252 139.169674 \nL 40.355784 139.156212 \nL 40.382072 139.155831 \nL 42.432604 139.103993 \nL 44.483136 139.089197 \nL 46.533667 139.081663 \nL 48.584199 139.070702 \nL 50.634731 139.064241 \nL 50.66102 139.063524 \nL 52.711551 139.001584 \nL 54.762083 139.000535 \nL 56.812615 138.991759 \nL 58.863147 138.985797 \nL 60.913678 138.978842 \nL 60.939967 138.978261 \nL 62.990499 138.932845 \nL 65.041031 138.927602 \nL 67.091562 138.917505 \nL 69.142094 138.908524 \nL 71.192626 138.901877 \nL 71.218914 138.901011 \nL 73.269446 138.854086 \nL 75.319978 138.847387 \nL 77.37051 138.843873 \nL 79.421041 138.838766 \nL 81.471573 138.834839 \nL 81.497862 138.834192 \nL 83.548394 138.784532 \nL 85.598925 138.791872 \nL 87.649457 138.791949 \nL 89.699989 138.789309 \nL 91.75052 138.785976 \nL 91.776809 138.785183 \nL 93.827341 138.766007 \nL 95.877873 138.769852 \nL 97.928404 138.767289 \nL 99.978936 138.76426 \nL 102.029468 138.762465 \nL 102.055757 138.761487 \nL 104.106288 138.72721 \nL 106.15682 138.73391 \nL 108.207352 138.736181 \nL 110.257883 138.737317 \nL 112.308415 138.737533 \nL 112.334704 138.73678 \nL 114.385236 138.726977 \nL 116.435767 138.724123 \nL 118.486299 138.722162 \nL 120.536831 138.723744 \nL 122.587362 138.724438 \nL 122.613651 138.723594 \nL 124.664183 138.664064 \nL 126.714715 138.658646 \nL 128.765246 138.654704 \nL 130.815778 138.650898 \nL 132.86631 138.647263 \nL 132.892599 138.646395 \nL 134.94313 138.622005 \nL 136.993662 138.623811 \nL 139.044194 138.623131 \nL 141.094725 138.622063 \nL 143.145257 138.621422 \nL 143.171546 138.620446 \nL 145.222078 138.609189 \nL 147.272609 138.607907 \nL 149.323141 138.609927 \nL 151.373673 138.610034 \nL 153.424205 138.611519 \nL 153.450493 138.610633 \nL 155.501025 138.605111 \nL 157.551557 138.603014 \nL 159.602089 138.599791 \nL 161.65262 138.600684 \nL 163.703152 138.599379 \nL 163.729441 138.598587 \nL 165.779972 138.594393 \nL 167.830504 138.593868 \nL 169.881036 138.592063 \nL 171.931568 138.59282 \nL 173.982099 138.592598 \nL 174.008388 138.591519 \nL 176.05892 138.570509 \nL 178.109452 138.577557 \nL 180.159983 138.580451 \nL 182.210515 138.582363 \nL 184.261047 138.584583 \nL 184.287336 138.583591 \nL 186.337867 138.575868 \nL 188.388399 138.57412 \nL 190.438931 138.575324 \nL 192.489462 138.576159 \nL 194.539994 138.576031 \nL 194.566283 138.574904 \nL 196.616815 138.56713 \nL 198.667346 138.56812 \nL 200.717878 138.567751 \nL 202.76841 138.567887 \nL 204.818941 138.569716 \nL 204.84523 138.568935 \nL 206.895762 138.558159 \nL 208.946294 138.562062 \nL 210.996825 138.563596 \nL 213.047357 138.564683 \nL 215.097889 138.565569 \nL 215.124178 138.564384 \nL 217.174709 138.561887 \nL 219.225241 138.559732 \nL 221.275773 138.558004 \nL 223.326304 138.558625 \nL 225.376836 138.560909 \nL 225.403125 138.559955 \n\" clip-path=\"url(#p89152601b6)\" style=\"fill: none; stroke-dasharray: 5.55,2.4; stroke-dashoffset: 0; stroke: #bf00bf; stroke-width: 1.5\"/>\n   </g>\n   <g id=\"line2d_21\">\n    <path d=\"M 30.103125 87.602602 \nL 40.382072 74.262049 \nL 50.66102 62.380619 \nL 60.939967 54.757446 \nL 71.218914 43.843802 \nL 81.497862 34.984841 \nL 91.776809 39.987549 \nL 102.055757 32.081484 \nL 112.334704 43.769357 \nL 122.613651 27.897673 \nL 132.892599 18.175149 \nL 143.171546 16.969139 \nL 153.450493 15.390904 \nL 163.729441 15.078235 \nL 174.008388 15.59935 \nL 184.287336 13.887114 \nL 194.566283 14.750677 \nL 204.84523 15.539794 \nL 215.124178 14.080671 \nL 225.403125 13.5 \n\" clip-path=\"url(#p89152601b6)\" style=\"fill: none; stroke-dasharray: 9.6,2.4,1.5,2.4; stroke-dashoffset: 0; stroke: #008000; stroke-width: 1.5\"/>\n   </g>\n   <g id=\"patch_3\">\n    <path d=\"M 30.103125 145.8 \nL 30.103125 7.2 \n\" style=\"fill: none; stroke: #000000; stroke-width: 0.8; stroke-linejoin: miter; stroke-linecap: square\"/>\n   </g>\n   <g id=\"patch_4\">\n    <path d=\"M 225.403125 145.8 \nL 225.403125 7.2 \n\" style=\"fill: none; stroke: #000000; stroke-width: 0.8; stroke-linejoin: miter; stroke-linecap: square\"/>\n   </g>\n   <g id=\"patch_5\">\n    <path d=\"M 30.103125 145.8 \nL 225.403125 145.8 \n\" style=\"fill: none; stroke: #000000; stroke-width: 0.8; stroke-linejoin: miter; stroke-linecap: square\"/>\n   </g>\n   <g id=\"patch_6\">\n    <path d=\"M 30.103125 7.2 \nL 225.403125 7.2 \n\" style=\"fill: none; stroke: #000000; stroke-width: 0.8; stroke-linejoin: miter; stroke-linecap: square\"/>\n   </g>\n   <g id=\"legend_1\">\n    <g id=\"patch_7\">\n     <path d=\"M 140.634375 100.017188 \nL 218.403125 100.017188 \nQ 220.403125 100.017188 220.403125 98.017188 \nL 220.403125 54.982812 \nQ 220.403125 52.982812 218.403125 52.982812 \nL 140.634375 52.982812 \nQ 138.634375 52.982812 138.634375 54.982812 \nL 138.634375 98.017188 \nQ 138.634375 100.017188 140.634375 100.017188 \nz\n\" style=\"fill: #ffffff; opacity: 0.8; stroke: #cccccc; stroke-linejoin: miter\"/>\n    </g>\n    <g id=\"line2d_22\">\n     <path d=\"M 142.634375 61.08125 \nL 152.634375 61.08125 \nL 162.634375 61.08125 \n\" style=\"fill: none; stroke: #1f77b4; stroke-width: 1.5; stroke-linecap: square\"/>\n    </g>\n    <g id=\"text_11\">\n     <!-- train loss -->\n     <g transform=\"translate(170.634375 64.58125) scale(0.1 -0.1)\">\n      <defs>\n       <path id=\"DejaVuSans-74\" d=\"M 1172 4494 \nL 1172 3500 \nL 2356 3500 \nL 2356 3053 \nL 1172 3053 \nL 1172 1153 \nQ 1172 725 1289 603 \nQ 1406 481 1766 481 \nL 2356 481 \nL 2356 0 \nL 1766 0 \nQ 1100 0 847 248 \nQ 594 497 594 1153 \nL 594 3053 \nL 172 3053 \nL 172 3500 \nL 594 3500 \nL 594 4494 \nL 1172 4494 \nz\n\" transform=\"scale(0.015625)\"/>\n       <path id=\"DejaVuSans-72\" d=\"M 2631 2963 \nQ 2534 3019 2420 3045 \nQ 2306 3072 2169 3072 \nQ 1681 3072 1420 2755 \nQ 1159 2438 1159 1844 \nL 1159 0 \nL 581 0 \nL 581 3500 \nL 1159 3500 \nL 1159 2956 \nQ 1341 3275 1631 3429 \nQ 1922 3584 2338 3584 \nQ 2397 3584 2469 3576 \nQ 2541 3569 2628 3553 \nL 2631 2963 \nz\n\" transform=\"scale(0.015625)\"/>\n       <path id=\"DejaVuSans-61\" d=\"M 2194 1759 \nQ 1497 1759 1228 1600 \nQ 959 1441 959 1056 \nQ 959 750 1161 570 \nQ 1363 391 1709 391 \nQ 2188 391 2477 730 \nQ 2766 1069 2766 1631 \nL 2766 1759 \nL 2194 1759 \nz\nM 3341 1997 \nL 3341 0 \nL 2766 0 \nL 2766 531 \nQ 2569 213 2275 61 \nQ 1981 -91 1556 -91 \nQ 1019 -91 701 211 \nQ 384 513 384 1019 \nQ 384 1609 779 1909 \nQ 1175 2209 1959 2209 \nL 2766 2209 \nL 2766 2266 \nQ 2766 2663 2505 2880 \nQ 2244 3097 1772 3097 \nQ 1472 3097 1187 3025 \nQ 903 2953 641 2809 \nL 641 3341 \nQ 956 3463 1253 3523 \nQ 1550 3584 1831 3584 \nQ 2591 3584 2966 3190 \nQ 3341 2797 3341 1997 \nz\n\" transform=\"scale(0.015625)\"/>\n       <path id=\"DejaVuSans-69\" d=\"M 603 3500 \nL 1178 3500 \nL 1178 0 \nL 603 0 \nL 603 3500 \nz\nM 603 4863 \nL 1178 4863 \nL 1178 4134 \nL 603 4134 \nL 603 4863 \nz\n\" transform=\"scale(0.015625)\"/>\n       <path id=\"DejaVuSans-6e\" d=\"M 3513 2113 \nL 3513 0 \nL 2938 0 \nL 2938 2094 \nQ 2938 2591 2744 2837 \nQ 2550 3084 2163 3084 \nQ 1697 3084 1428 2787 \nQ 1159 2491 1159 1978 \nL 1159 0 \nL 581 0 \nL 581 3500 \nL 1159 3500 \nL 1159 2956 \nQ 1366 3272 1645 3428 \nQ 1925 3584 2291 3584 \nQ 2894 3584 3203 3211 \nQ 3513 2838 3513 2113 \nz\n\" transform=\"scale(0.015625)\"/>\n       <path id=\"DejaVuSans-20\" transform=\"scale(0.015625)\"/>\n       <path id=\"DejaVuSans-6c\" d=\"M 603 4863 \nL 1178 4863 \nL 1178 0 \nL 603 0 \nL 603 4863 \nz\n\" transform=\"scale(0.015625)\"/>\n       <path id=\"DejaVuSans-73\" d=\"M 2834 3397 \nL 2834 2853 \nQ 2591 2978 2328 3040 \nQ 2066 3103 1784 3103 \nQ 1356 3103 1142 2972 \nQ 928 2841 928 2578 \nQ 928 2378 1081 2264 \nQ 1234 2150 1697 2047 \nL 1894 2003 \nQ 2506 1872 2764 1633 \nQ 3022 1394 3022 966 \nQ 3022 478 2636 193 \nQ 2250 -91 1575 -91 \nQ 1294 -91 989 -36 \nQ 684 19 347 128 \nL 347 722 \nQ 666 556 975 473 \nQ 1284 391 1588 391 \nQ 1994 391 2212 530 \nQ 2431 669 2431 922 \nQ 2431 1156 2273 1281 \nQ 2116 1406 1581 1522 \nL 1381 1569 \nQ 847 1681 609 1914 \nQ 372 2147 372 2553 \nQ 372 3047 722 3315 \nQ 1072 3584 1716 3584 \nQ 2034 3584 2315 3537 \nQ 2597 3491 2834 3397 \nz\n\" transform=\"scale(0.015625)\"/>\n      </defs>\n      <use xlink:href=\"#DejaVuSans-74\"/>\n      <use xlink:href=\"#DejaVuSans-72\" x=\"39.208984\"/>\n      <use xlink:href=\"#DejaVuSans-61\" x=\"80.322266\"/>\n      <use xlink:href=\"#DejaVuSans-69\" x=\"141.601562\"/>\n      <use xlink:href=\"#DejaVuSans-6e\" x=\"169.384766\"/>\n      <use xlink:href=\"#DejaVuSans-20\" x=\"232.763672\"/>\n      <use xlink:href=\"#DejaVuSans-6c\" x=\"264.550781\"/>\n      <use xlink:href=\"#DejaVuSans-6f\" x=\"292.333984\"/>\n      <use xlink:href=\"#DejaVuSans-73\" x=\"353.515625\"/>\n      <use xlink:href=\"#DejaVuSans-73\" x=\"405.615234\"/>\n     </g>\n    </g>\n    <g id=\"line2d_23\">\n     <path d=\"M 142.634375 75.759375 \nL 152.634375 75.759375 \nL 162.634375 75.759375 \n\" style=\"fill: none; stroke-dasharray: 5.55,2.4; stroke-dashoffset: 0; stroke: #bf00bf; stroke-width: 1.5\"/>\n    </g>\n    <g id=\"text_12\">\n     <!-- train acc -->\n     <g transform=\"translate(170.634375 79.259375) scale(0.1 -0.1)\">\n      <use xlink:href=\"#DejaVuSans-74\"/>\n      <use xlink:href=\"#DejaVuSans-72\" x=\"39.208984\"/>\n      <use xlink:href=\"#DejaVuSans-61\" x=\"80.322266\"/>\n      <use xlink:href=\"#DejaVuSans-69\" x=\"141.601562\"/>\n      <use xlink:href=\"#DejaVuSans-6e\" x=\"169.384766\"/>\n      <use xlink:href=\"#DejaVuSans-20\" x=\"232.763672\"/>\n      <use xlink:href=\"#DejaVuSans-61\" x=\"264.550781\"/>\n      <use xlink:href=\"#DejaVuSans-63\" x=\"325.830078\"/>\n      <use xlink:href=\"#DejaVuSans-63\" x=\"380.810547\"/>\n     </g>\n    </g>\n    <g id=\"line2d_24\">\n     <path d=\"M 142.634375 90.4375 \nL 152.634375 90.4375 \nL 162.634375 90.4375 \n\" style=\"fill: none; stroke-dasharray: 9.6,2.4,1.5,2.4; stroke-dashoffset: 0; stroke: #008000; stroke-width: 1.5\"/>\n    </g>\n    <g id=\"text_13\">\n     <!-- valid acc -->\n     <g transform=\"translate(170.634375 93.9375) scale(0.1 -0.1)\">\n      <defs>\n       <path id=\"DejaVuSans-76\" d=\"M 191 3500 \nL 800 3500 \nL 1894 563 \nL 2988 3500 \nL 3597 3500 \nL 2284 0 \nL 1503 0 \nL 191 3500 \nz\n\" transform=\"scale(0.015625)\"/>\n       <path id=\"DejaVuSans-64\" d=\"M 2906 2969 \nL 2906 4863 \nL 3481 4863 \nL 3481 0 \nL 2906 0 \nL 2906 525 \nQ 2725 213 2448 61 \nQ 2172 -91 1784 -91 \nQ 1150 -91 751 415 \nQ 353 922 353 1747 \nQ 353 2572 751 3078 \nQ 1150 3584 1784 3584 \nQ 2172 3584 2448 3432 \nQ 2725 3281 2906 2969 \nz\nM 947 1747 \nQ 947 1113 1208 752 \nQ 1469 391 1925 391 \nQ 2381 391 2643 752 \nQ 2906 1113 2906 1747 \nQ 2906 2381 2643 2742 \nQ 2381 3103 1925 3103 \nQ 1469 3103 1208 2742 \nQ 947 2381 947 1747 \nz\n\" transform=\"scale(0.015625)\"/>\n      </defs>\n      <use xlink:href=\"#DejaVuSans-76\"/>\n      <use xlink:href=\"#DejaVuSans-61\" x=\"59.179688\"/>\n      <use xlink:href=\"#DejaVuSans-6c\" x=\"120.458984\"/>\n      <use xlink:href=\"#DejaVuSans-69\" x=\"148.242188\"/>\n      <use xlink:href=\"#DejaVuSans-64\" x=\"176.025391\"/>\n      <use xlink:href=\"#DejaVuSans-20\" x=\"239.501953\"/>\n      <use xlink:href=\"#DejaVuSans-61\" x=\"271.289062\"/>\n      <use xlink:href=\"#DejaVuSans-63\" x=\"332.568359\"/>\n      <use xlink:href=\"#DejaVuSans-63\" x=\"387.548828\"/>\n     </g>\n    </g>\n   </g>\n  </g>\n </g>\n <defs>\n  <clipPath id=\"p89152601b6\">\n   <rect x=\"30.103125\" y=\"7.2\" width=\"195.3\" height=\"138.6\"/>\n  </clipPath>\n </defs>\n</svg>\n"
          },
          "metadata": {}
        }
      ]
    }
  ]
}